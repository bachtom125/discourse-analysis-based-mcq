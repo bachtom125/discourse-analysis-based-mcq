{
 "cells": [
  {
   "cell_type": "code",
   "execution_count": 3,
   "metadata": {},
   "outputs": [],
   "source": [
    "import numpy as np\n",
    "import pandas as pd\n",
    "import matplotlib.pyplot as plt\n",
    "\n",
    "pd.set_option('max_colwidth', None)"
   ]
  },
  {
   "cell_type": "markdown",
   "metadata": {},
   "source": [
    "# Set up MixQG Model"
   ]
  },
  {
   "cell_type": "code",
   "execution_count": 4,
   "metadata": {},
   "outputs": [
    {
     "name": "stderr",
     "output_type": "stream",
     "text": [
      "/mnt/e/TOM/HUST/20232/rst-relations-labeller/.venv/lib/python3.11/site-packages/tqdm/auto.py:21: TqdmWarning: IProgress not found. Please update jupyter and ipywidgets. See https://ipywidgets.readthedocs.io/en/stable/user_install.html\n",
      "  from .autonotebook import tqdm as notebook_tqdm\n"
     ]
    }
   ],
   "source": [
    "from transformers import AutoTokenizer, AutoModelForSeq2SeqLM\n",
    "\n",
    "mixqg_tokenizer = AutoTokenizer.from_pretrained('Salesforce/mixqg-base')\n",
    "mixqg_model = AutoModelForSeq2SeqLM.from_pretrained('Salesforce/mixqg-base').to('cuda')"
   ]
  },
  {
   "cell_type": "code",
   "execution_count": 5,
   "metadata": {},
   "outputs": [],
   "source": [
    "def format_inputs(context: str, answer: str):\n",
    "    return f\"{answer} \\\\n {context}\""
   ]
  },
  {
   "cell_type": "code",
   "execution_count": 6,
   "metadata": {},
   "outputs": [],
   "source": [
    "import re\n",
    "\n",
    "def postprocess_question(ques):\n",
    "    \"\"\"Clean up the question after being generated.\n",
    "    Pipeline: Clean double spaces, clean extra punctuations\n",
    "\n",
    "    Args:\n",
    "        ques (str): generated question\n",
    "    Returns:\n",
    "        str: new question\n",
    "    \"\"\"\n",
    "\n",
    "    puncts_to_remove = ['.', ',', '!']\n",
    "\n",
    "    ques_c = list(ques)\n",
    "    for i in range(len(ques_c) - 1, 0, -1):\n",
    "        if ques_c[i].isalnum():\n",
    "            break\n",
    "\n",
    "        if ques_c[i] in puncts_to_remove:\n",
    "            ques_c.pop(i)\n",
    "\n",
    "    new_ques = ''.join(ques_c)\n",
    "    new_ques = re.sub(r'\\s+', ' ', new_ques)\n",
    "    return new_ques"
   ]
  },
  {
   "cell_type": "code",
   "execution_count": 7,
   "metadata": {},
   "outputs": [],
   "source": [
    "def postprocess_answer(ans):\n",
    "    \"\"\"Clean up the answer after being generated.\n",
    "    Pipeline: Clean double spaces, clean extra punctuations, capitalize first word.\n",
    "\n",
    "    Args:\n",
    "        ans (str): generated answer\n",
    "    Returns:\n",
    "        str: new answer\n",
    "    \"\"\"\n",
    "\n",
    "    ending_puncts = ['.', '!']\n",
    "\n",
    "    ans_c = list(ans)\n",
    "    has_punct = False\n",
    "    for i in range(len(ans_c) - 1, 0, -1):\n",
    "        if ans_c[i].isalnum():\n",
    "            break\n",
    "\n",
    "        if ans_c[i] in ending_puncts:\n",
    "            if not has_punct:\n",
    "                has_punct = True\n",
    "                continue\n",
    "            ans_c.pop(i)\n",
    "        \n",
    "    if not has_punct:\n",
    "        ans_c.append('.')\n",
    "        \n",
    "    for i in range(len(ans_c)):\n",
    "        if len(ans_c[i].strip()) == 0:\n",
    "            continue\n",
    "        ans_c[i] = ans_c[i].upper()\n",
    "        ans_c = ans_c[i:]\n",
    "        break\n",
    "\n",
    "    new_ans = ''.join(ans_c)\n",
    "    new_ans = re.sub(r'\\s+', ' ', new_ans)\n",
    "    return new_ans.strip()"
   ]
  },
  {
   "cell_type": "code",
   "execution_count": 8,
   "metadata": {},
   "outputs": [],
   "source": [
    "def generate_question(context, answer):\n",
    "    \"\"\"Generate a question based on context and answer, need globally available mixqg_model and mixqg_tokenizer, \\\n",
    "        answer has to be formatted correctly beforehand (capitalize, no extra spaces, etc. check the postprocess_answer() function)\n",
    "\n",
    "    Args:\n",
    "        context (str): \n",
    "        answer (str): \n",
    "\n",
    "    Return:\n",
    "        str\n",
    "    \"\"\"\n",
    "\n",
    "    inputs = format_inputs(context, answer)\n",
    "    input_ids = mixqg_tokenizer(inputs, return_tensors=\"pt\").input_ids.to('cuda')\n",
    "\n",
    "    output_seqs = mixqg_model.generate(input_ids, max_length=32, num_beams=4)\n",
    "    output = mixqg_tokenizer.batch_decode(output_seqs, skip_special_tokens=True)\n",
    "    question = output[0]\n",
    "    question = postprocess_question(question)\n",
    "\n",
    "    return question"
   ]
  },
  {
   "cell_type": "markdown",
   "metadata": {},
   "source": [
    "# Inference"
   ]
  },
  {
   "cell_type": "markdown",
   "metadata": {},
   "source": [
    "Utils"
   ]
  },
  {
   "cell_type": "code",
   "execution_count": 9,
   "metadata": {},
   "outputs": [],
   "source": [
    "def read_ans_file(file_name):\n",
    "    answers = []\n",
    "    try:\n",
    "        with open(file_name, 'r') as f:\n",
    "            for line in f:\n",
    "                answers.append(line.strip())\n",
    "    except:\n",
    "        print(\"File not found!\")\n",
    "\n",
    "    return answers"
   ]
  },
  {
   "cell_type": "code",
   "execution_count": 10,
   "metadata": {},
   "outputs": [],
   "source": [
    "import re\n",
    "def split_into_sentences(text):\n",
    "    \"\"\"Split text into sentence\n",
    "\n",
    "    Args:\n",
    "        text (str): text to be splited\n",
    "    Return: \n",
    "        list[str]: split text\n",
    "    \"\"\"\n",
    "    sents = re.split(r\"(?<!\\w\\.\\w.)(?<![A-Z][a-z]\\.)(?<=\\.|\\?|\\!)\", text)\n",
    "    sents = [sent for sent in sents if len(sent.strip())]\n",
    "    return sents"
   ]
  },
  {
   "cell_type": "code",
   "execution_count": 11,
   "metadata": {},
   "outputs": [],
   "source": [
    "def find_source_sent(sents, text):\n",
    "    \"\"\"Find what sent the text belongs to. Text has to be a subspan of a sentence.\n",
    "\n",
    "    Args:\n",
    "        sents (List(str)):\n",
    "        text (str): \n",
    "    Return: \n",
    "        str: source sent\n",
    "    \"\"\"\n",
    "\n",
    "    for sent in sents:\n",
    "        if text.strip() in sent:\n",
    "            return sent\n",
    "\n",
    "    return \"\""
   ]
  },
  {
   "cell_type": "markdown",
   "metadata": {},
   "source": [
    "Inference"
   ]
  },
  {
   "cell_type": "code",
   "execution_count": 12,
   "metadata": {},
   "outputs": [
    {
     "name": "stderr",
     "output_type": "stream",
     "text": [
      "Token indices sequence length is longer than the specified maximum sequence length for this model (2092 > 512). Running this sequence through the model will result in indexing errors\n"
     ]
    }
   ],
   "source": [
    "context_path = 'wikipedia_articles/personalized_learning.txt'\n",
    "f = open(context_path, 'r')\n",
    "context = f.read()\n",
    "\n",
    "answers = read_ans_file(\"chosen_spans.txt\")\n",
    "\n",
    "questions = []\n",
    "for ans in answers:\n",
    "    ans = postprocess_answer(ans)\n",
    "    ques = generate_question(context, ans)\n",
    "    questions.append((ques, ans))"
   ]
  },
  {
   "cell_type": "code",
   "execution_count": 13,
   "metadata": {},
   "outputs": [],
   "source": [
    "sents = split_into_sentences(context)\n",
    "questions_df = pd.DataFrame(questions, columns=['question', 'answer'])\n",
    "questions_df['source_sent'] = questions_df.apply(lambda x: find_source_sent(sents, x['answer'][1:-1]), axis=1) # [1:-1] to skip the modifications of postprocess_answer()\n",
    "questions_df = questions_df[['source_sent', 'question', 'answer']] # rearrange columns' order"
   ]
  },
  {
   "cell_type": "code",
   "execution_count": 14,
   "metadata": {},
   "outputs": [],
   "source": [
    "questions_df.to_csv(\"generated_questions/mixqg_questions_personalized_learning.csv\", index=False)"
   ]
  }
 ],
 "metadata": {
  "kernelspec": {
   "display_name": ".venv",
   "language": "python",
   "name": "python3"
  },
  "language_info": {
   "codemirror_mode": {
    "name": "ipython",
    "version": 3
   },
   "file_extension": ".py",
   "mimetype": "text/x-python",
   "name": "python",
   "nbconvert_exporter": "python",
   "pygments_lexer": "ipython3",
   "version": "3.11.9"
  }
 },
 "nbformat": 4,
 "nbformat_minor": 2
}
